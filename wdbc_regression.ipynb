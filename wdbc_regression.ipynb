{
  "metadata": {
    "kernelspec": {
      "language": "python",
      "display_name": "Python 3",
      "name": "python3"
    },
    "language_info": {
      "name": "python",
      "version": "3.7.12",
      "mimetype": "text/x-python",
      "codemirror_mode": {
        "name": "ipython",
        "version": 3
      },
      "pygments_lexer": "ipython3",
      "nbconvert_exporter": "python",
      "file_extension": ".py"
    },
    "colab": {
      "provenance": [],
      "include_colab_link": true
    }
  },
  "nbformat_minor": 0,
  "nbformat": 4,
  "cells": [
    {
      "cell_type": "markdown",
      "metadata": {
        "id": "view-in-github",
        "colab_type": "text"
      },
      "source": [
        "<a href=\"https://colab.research.google.com/github/Yeancha/hello-world/blob/master/wdbc_regression.ipynb\" target=\"_parent\"><img src=\"https://colab.research.google.com/assets/colab-badge.svg\" alt=\"Open In Colab\"/></a>"
      ]
    },
    {
      "cell_type": "markdown",
      "source": [
        "Import necessary libraries"
      ],
      "metadata": {
        "id": "bfNgx9k5xNLH"
      }
    },
    {
      "cell_type": "code",
      "source": [
        "import pandas as pd\n",
        "import sklearn.model_selection as ms\n",
        "import sklearn.linear_model as lm"
      ],
      "metadata": {
        "trusted": true,
        "id": "NgbWPTxrxNLK"
      },
      "execution_count": null,
      "outputs": []
    },
    {
      "cell_type": "markdown",
      "source": [
        "Read data from csv file"
      ],
      "metadata": {
        "id": "fT9JKM4VxNLM"
      }
    },
    {
      "cell_type": "code",
      "source": [
        "data = pd.read_csv('../input/dataset/wdbc.csv', header=None)\n",
        "data #this is only added to show what the data looks like"
      ],
      "metadata": {
        "trusted": true,
        "id": "q3S2fW9XxNLN"
      },
      "execution_count": null,
      "outputs": []
    },
    {
      "cell_type": "markdown",
      "source": [
        "Handling catergorical variables"
      ],
      "metadata": {
        "id": "HhTgztTlxNLN"
      }
    },
    {
      "cell_type": "code",
      "source": [
        "data = data.replace({'B':0, 'M':1})\n",
        "x = data.iloc[:,2:]\n",
        "y = data.iloc[:,1]\n",
        "data #display data after replacing categorical values"
      ],
      "metadata": {
        "trusted": true,
        "id": "tb4v7bB8xNLO"
      },
      "execution_count": null,
      "outputs": []
    },
    {
      "cell_type": "markdown",
      "source": [
        "Data Pre-processing (scaling)"
      ],
      "metadata": {
        "id": "fspaeg80xNLO"
      }
    },
    {
      "cell_type": "code",
      "source": [
        "x = (x - x.mean())/x.std()\n",
        "#add a print statement if you want to see what the data looks like after scaling"
      ],
      "metadata": {
        "trusted": true,
        "id": "AWZfFv38xNLP"
      },
      "execution_count": null,
      "outputs": []
    },
    {
      "cell_type": "markdown",
      "source": [
        "Build a regression model and fit it with x, y"
      ],
      "metadata": {
        "id": "yFpvxea-xNLP"
      }
    },
    {
      "cell_type": "code",
      "source": [
        "model = lm.LinearRegression()\n",
        "model.fit(x,y)"
      ],
      "metadata": {
        "trusted": true,
        "id": "fc08NZDUxNLQ"
      },
      "execution_count": null,
      "outputs": []
    },
    {
      "cell_type": "markdown",
      "source": [
        "Calculate the model score when evaluated using 5-cross-validation"
      ],
      "metadata": {
        "id": "MDXgCUnaxNLQ"
      }
    },
    {
      "cell_type": "code",
      "source": [
        "results = ms.cross_val_score(model, x, y, cv=5)\n",
        "print (\"Model Score=\", results.mean())"
      ],
      "metadata": {
        "trusted": true,
        "id": "PZy-rK6TxNLR"
      },
      "execution_count": null,
      "outputs": []
    },
    {
      "cell_type": "markdown",
      "source": [
        "A sample prediction (row n)"
      ],
      "metadata": {
        "id": "OMFznPkdxNLR"
      }
    },
    {
      "cell_type": "code",
      "source": [
        "n=1\n",
        "z=x.iloc[n:n+1,:]\n",
        "prediction_value=model.predict(z)\n",
        "prediction_class= 'M' if prediction_value.round()==1 else 'B'\n",
        "print (\"The prediction for sample #\" , n , \" is:\", prediction_value, \" (\" , prediction_class , \")\")"
      ],
      "metadata": {
        "trusted": true,
        "id": "fjjKKIpLxNLS"
      },
      "execution_count": null,
      "outputs": []
    }
  ]
}